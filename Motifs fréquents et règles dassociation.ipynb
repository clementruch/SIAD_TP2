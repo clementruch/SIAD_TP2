{
 "cells": [
  {
   "cell_type": "code",
   "execution_count": 47,
   "id": "fee35e67",
   "metadata": {
    "ExecuteTime": {
     "end_time": "2025-06-05T10:50:27.421827500Z",
     "start_time": "2025-06-05T10:50:27.325931700Z"
    }
   },
   "outputs": [],
   "source": [
    "from mlxtend.preprocessing import TransactionEncoder\n",
    "from mlxtend.frequent_patterns import apriori,association_rules\n",
    "import pandas as pd"
   ]
  },
  {
   "cell_type": "markdown",
   "id": "d29b6e79",
   "metadata": {},
   "source": [
    "<h1 style=\"color:blue;\"> Toy Example </h1>"
   ]
  },
  {
   "cell_type": "code",
   "execution_count": 48,
   "id": "79469820",
   "metadata": {
    "ExecuteTime": {
     "end_time": "2025-06-05T10:50:27.423821700Z",
     "start_time": "2025-06-05T10:50:27.328924300Z"
    }
   },
   "outputs": [
    {
     "data": {
      "text/plain": "   Aneth  Glace  Haricots Rouges   Lait   Maïs   Noix  Oeufs  Oignon  Pomme  \\\n0  False  False             True   True  False   True   True    True  False   \n1   True  False             True  False  False   True   True    True  False   \n2  False  False             True   True  False  False   True   False   True   \n\n   Yaourt  \n0    True  \n1    True  \n2   False  ",
      "text/html": "<div>\n<style scoped>\n    .dataframe tbody tr th:only-of-type {\n        vertical-align: middle;\n    }\n\n    .dataframe tbody tr th {\n        vertical-align: top;\n    }\n\n    .dataframe thead th {\n        text-align: right;\n    }\n</style>\n<table border=\"1\" class=\"dataframe\">\n  <thead>\n    <tr style=\"text-align: right;\">\n      <th></th>\n      <th>Aneth</th>\n      <th>Glace</th>\n      <th>Haricots Rouges</th>\n      <th>Lait</th>\n      <th>Maïs</th>\n      <th>Noix</th>\n      <th>Oeufs</th>\n      <th>Oignon</th>\n      <th>Pomme</th>\n      <th>Yaourt</th>\n    </tr>\n  </thead>\n  <tbody>\n    <tr>\n      <th>0</th>\n      <td>False</td>\n      <td>False</td>\n      <td>True</td>\n      <td>True</td>\n      <td>False</td>\n      <td>True</td>\n      <td>True</td>\n      <td>True</td>\n      <td>False</td>\n      <td>True</td>\n    </tr>\n    <tr>\n      <th>1</th>\n      <td>True</td>\n      <td>False</td>\n      <td>True</td>\n      <td>False</td>\n      <td>False</td>\n      <td>True</td>\n      <td>True</td>\n      <td>True</td>\n      <td>False</td>\n      <td>True</td>\n    </tr>\n    <tr>\n      <th>2</th>\n      <td>False</td>\n      <td>False</td>\n      <td>True</td>\n      <td>True</td>\n      <td>False</td>\n      <td>False</td>\n      <td>True</td>\n      <td>False</td>\n      <td>True</td>\n      <td>False</td>\n    </tr>\n  </tbody>\n</table>\n</div>"
     },
     "execution_count": 48,
     "metadata": {},
     "output_type": "execute_result"
    }
   ],
   "source": [
    "dataset = [['Lait', 'Oignon', 'Noix', 'Haricots Rouges', 'Oeufs', 'Yaourt'],\n",
    "           ['Aneth', 'Oignon', 'Noix', 'Haricots Rouges', 'Oeufs', 'Yaourt'],\n",
    "           ['Lait', 'Pomme', 'Haricots Rouges', 'Oeufs'],\n",
    "           ['Lait', 'Maïs', 'Haricots Rouges', 'Yaourt'],\n",
    "           ['Maïs', 'Oignon', 'Haricots Rouges', 'Glace', 'Oeufs']]\n",
    "\n",
    "\n",
    "transactions = TransactionEncoder()\n",
    "transactions_array = transactions.fit(dataset).transform(dataset)\n",
    "df_train = pd.DataFrame(transactions_array, columns=transactions.columns_)\n",
    "df_train.head(3)"
   ]
  },
  {
   "cell_type": "markdown",
   "id": "30411954",
   "metadata": {},
   "source": [
    "### Recherche de motifs fréquents"
   ]
  },
  {
   "cell_type": "code",
   "execution_count": 49,
   "id": "17cd101f",
   "metadata": {
    "ExecuteTime": {
     "end_time": "2025-06-05T10:50:27.425817700Z",
     "start_time": "2025-06-05T10:50:27.348037Z"
    }
   },
   "outputs": [
    {
     "data": {
      "text/plain": "    support                          itemsets\n0       1.0                 (Haricots Rouges)\n1       0.6                            (Lait)\n2       0.8                           (Oeufs)\n3       0.6                          (Oignon)\n4       0.6                          (Yaourt)\n5       0.6           (Lait, Haricots Rouges)\n6       0.8          (Oeufs, Haricots Rouges)\n7       0.6         (Haricots Rouges, Oignon)\n8       0.6         (Yaourt, Haricots Rouges)\n9       0.6                   (Oeufs, Oignon)\n10      0.6  (Oeufs, Haricots Rouges, Oignon)",
      "text/html": "<div>\n<style scoped>\n    .dataframe tbody tr th:only-of-type {\n        vertical-align: middle;\n    }\n\n    .dataframe tbody tr th {\n        vertical-align: top;\n    }\n\n    .dataframe thead th {\n        text-align: right;\n    }\n</style>\n<table border=\"1\" class=\"dataframe\">\n  <thead>\n    <tr style=\"text-align: right;\">\n      <th></th>\n      <th>support</th>\n      <th>itemsets</th>\n    </tr>\n  </thead>\n  <tbody>\n    <tr>\n      <th>0</th>\n      <td>1.0</td>\n      <td>(Haricots Rouges)</td>\n    </tr>\n    <tr>\n      <th>1</th>\n      <td>0.6</td>\n      <td>(Lait)</td>\n    </tr>\n    <tr>\n      <th>2</th>\n      <td>0.8</td>\n      <td>(Oeufs)</td>\n    </tr>\n    <tr>\n      <th>3</th>\n      <td>0.6</td>\n      <td>(Oignon)</td>\n    </tr>\n    <tr>\n      <th>4</th>\n      <td>0.6</td>\n      <td>(Yaourt)</td>\n    </tr>\n    <tr>\n      <th>5</th>\n      <td>0.6</td>\n      <td>(Lait, Haricots Rouges)</td>\n    </tr>\n    <tr>\n      <th>6</th>\n      <td>0.8</td>\n      <td>(Oeufs, Haricots Rouges)</td>\n    </tr>\n    <tr>\n      <th>7</th>\n      <td>0.6</td>\n      <td>(Haricots Rouges, Oignon)</td>\n    </tr>\n    <tr>\n      <th>8</th>\n      <td>0.6</td>\n      <td>(Yaourt, Haricots Rouges)</td>\n    </tr>\n    <tr>\n      <th>9</th>\n      <td>0.6</td>\n      <td>(Oeufs, Oignon)</td>\n    </tr>\n    <tr>\n      <th>10</th>\n      <td>0.6</td>\n      <td>(Oeufs, Haricots Rouges, Oignon)</td>\n    </tr>\n  </tbody>\n</table>\n</div>"
     },
     "execution_count": 49,
     "metadata": {},
     "output_type": "execute_result"
    }
   ],
   "source": [
    "frequent_itemsets_train = apriori(df_train, min_support=0.6, use_colnames=True)\n",
    "frequent_itemsets_train"
   ]
  },
  {
   "cell_type": "code",
   "execution_count": 50,
   "id": "f2d09094",
   "metadata": {
    "ExecuteTime": {
     "end_time": "2025-06-05T10:50:27.426813100Z",
     "start_time": "2025-06-05T10:50:27.374656200Z"
    }
   },
   "outputs": [
    {
     "data": {
      "text/plain": "   support                 itemsets\n1      0.6                   (Lait)\n5      0.6  (Lait, Haricots Rouges)",
      "text/html": "<div>\n<style scoped>\n    .dataframe tbody tr th:only-of-type {\n        vertical-align: middle;\n    }\n\n    .dataframe tbody tr th {\n        vertical-align: top;\n    }\n\n    .dataframe thead th {\n        text-align: right;\n    }\n</style>\n<table border=\"1\" class=\"dataframe\">\n  <thead>\n    <tr style=\"text-align: right;\">\n      <th></th>\n      <th>support</th>\n      <th>itemsets</th>\n    </tr>\n  </thead>\n  <tbody>\n    <tr>\n      <th>1</th>\n      <td>0.6</td>\n      <td>(Lait)</td>\n    </tr>\n    <tr>\n      <th>5</th>\n      <td>0.6</td>\n      <td>(Lait, Haricots Rouges)</td>\n    </tr>\n  </tbody>\n</table>\n</div>"
     },
     "execution_count": 50,
     "metadata": {},
     "output_type": "execute_result"
    }
   ],
   "source": [
    "frequent_itemsets_train[frequent_itemsets_train['itemsets'].astype(str).str.contains(\"Lait\")]"
   ]
  },
  {
   "cell_type": "markdown",
   "id": "f347fa3c",
   "metadata": {},
   "source": [
    "### Recherche des règles d'association"
   ]
  },
  {
   "cell_type": "code",
   "execution_count": 51,
   "id": "21190409",
   "metadata": {
    "ExecuteTime": {
     "end_time": "2025-06-05T10:50:27.426813100Z",
     "start_time": "2025-06-05T10:50:27.379898500Z"
    }
   },
   "outputs": [],
   "source": [
    "from mlxtend.frequent_patterns import association_rules"
   ]
  },
  {
   "cell_type": "code",
   "execution_count": 52,
   "id": "a0777fe3",
   "metadata": {
    "ExecuteTime": {
     "end_time": "2025-06-05T10:50:27.437783400Z",
     "start_time": "2025-06-05T10:50:27.383398100Z"
    }
   },
   "outputs": [
    {
     "name": "stderr",
     "output_type": "stream",
     "text": [
      "C:\\Users\\Epulapp\\Documents\\Polytech Cours\\SIAD\\SIAD_TP2\\Lib\\site-packages\\mlxtend\\frequent_patterns\\association_rules.py:186: RuntimeWarning: invalid value encountered in divide\n",
      "  cert_metric = np.where(certainty_denom == 0, 0, certainty_num / certainty_denom)\n"
     ]
    },
    {
     "data": {
      "text/plain": "                  antecedents                consequents  antecedent support  \\\n6                    (Oignon)                    (Oeufs)                 0.6   \n9   (Haricots Rouges, Oignon)                    (Oeufs)                 0.6   \n11                   (Oignon)   (Oeufs, Haricots Rouges)                 0.6   \n0                      (Lait)          (Haricots Rouges)                 0.6   \n1                     (Oeufs)          (Haricots Rouges)                 0.8   \n3                    (Oignon)          (Haricots Rouges)                 0.6   \n4                    (Yaourt)          (Haricots Rouges)                 0.6   \n8             (Oeufs, Oignon)          (Haricots Rouges)                 0.6   \n2           (Haricots Rouges)                    (Oeufs)                 1.0   \n5                     (Oeufs)                   (Oignon)                 0.8   \n7    (Oeufs, Haricots Rouges)                   (Oignon)                 0.8   \n10                    (Oeufs)  (Haricots Rouges, Oignon)                 0.8   \n\n    consequent support  support  confidence  lift  \n6                  0.8      0.6        1.00  1.25  \n9                  0.8      0.6        1.00  1.25  \n11                 0.8      0.6        1.00  1.25  \n0                  1.0      0.6        1.00  1.00  \n1                  1.0      0.8        1.00  1.00  \n3                  1.0      0.6        1.00  1.00  \n4                  1.0      0.6        1.00  1.00  \n8                  1.0      0.6        1.00  1.00  \n2                  0.8      0.8        0.80  1.00  \n5                  0.6      0.6        0.75  1.25  \n7                  0.6      0.6        0.75  1.25  \n10                 0.6      0.6        0.75  1.25  ",
      "text/html": "<div>\n<style scoped>\n    .dataframe tbody tr th:only-of-type {\n        vertical-align: middle;\n    }\n\n    .dataframe tbody tr th {\n        vertical-align: top;\n    }\n\n    .dataframe thead th {\n        text-align: right;\n    }\n</style>\n<table border=\"1\" class=\"dataframe\">\n  <thead>\n    <tr style=\"text-align: right;\">\n      <th></th>\n      <th>antecedents</th>\n      <th>consequents</th>\n      <th>antecedent support</th>\n      <th>consequent support</th>\n      <th>support</th>\n      <th>confidence</th>\n      <th>lift</th>\n    </tr>\n  </thead>\n  <tbody>\n    <tr>\n      <th>6</th>\n      <td>(Oignon)</td>\n      <td>(Oeufs)</td>\n      <td>0.6</td>\n      <td>0.8</td>\n      <td>0.6</td>\n      <td>1.00</td>\n      <td>1.25</td>\n    </tr>\n    <tr>\n      <th>9</th>\n      <td>(Haricots Rouges, Oignon)</td>\n      <td>(Oeufs)</td>\n      <td>0.6</td>\n      <td>0.8</td>\n      <td>0.6</td>\n      <td>1.00</td>\n      <td>1.25</td>\n    </tr>\n    <tr>\n      <th>11</th>\n      <td>(Oignon)</td>\n      <td>(Oeufs, Haricots Rouges)</td>\n      <td>0.6</td>\n      <td>0.8</td>\n      <td>0.6</td>\n      <td>1.00</td>\n      <td>1.25</td>\n    </tr>\n    <tr>\n      <th>0</th>\n      <td>(Lait)</td>\n      <td>(Haricots Rouges)</td>\n      <td>0.6</td>\n      <td>1.0</td>\n      <td>0.6</td>\n      <td>1.00</td>\n      <td>1.00</td>\n    </tr>\n    <tr>\n      <th>1</th>\n      <td>(Oeufs)</td>\n      <td>(Haricots Rouges)</td>\n      <td>0.8</td>\n      <td>1.0</td>\n      <td>0.8</td>\n      <td>1.00</td>\n      <td>1.00</td>\n    </tr>\n    <tr>\n      <th>3</th>\n      <td>(Oignon)</td>\n      <td>(Haricots Rouges)</td>\n      <td>0.6</td>\n      <td>1.0</td>\n      <td>0.6</td>\n      <td>1.00</td>\n      <td>1.00</td>\n    </tr>\n    <tr>\n      <th>4</th>\n      <td>(Yaourt)</td>\n      <td>(Haricots Rouges)</td>\n      <td>0.6</td>\n      <td>1.0</td>\n      <td>0.6</td>\n      <td>1.00</td>\n      <td>1.00</td>\n    </tr>\n    <tr>\n      <th>8</th>\n      <td>(Oeufs, Oignon)</td>\n      <td>(Haricots Rouges)</td>\n      <td>0.6</td>\n      <td>1.0</td>\n      <td>0.6</td>\n      <td>1.00</td>\n      <td>1.00</td>\n    </tr>\n    <tr>\n      <th>2</th>\n      <td>(Haricots Rouges)</td>\n      <td>(Oeufs)</td>\n      <td>1.0</td>\n      <td>0.8</td>\n      <td>0.8</td>\n      <td>0.80</td>\n      <td>1.00</td>\n    </tr>\n    <tr>\n      <th>5</th>\n      <td>(Oeufs)</td>\n      <td>(Oignon)</td>\n      <td>0.8</td>\n      <td>0.6</td>\n      <td>0.6</td>\n      <td>0.75</td>\n      <td>1.25</td>\n    </tr>\n    <tr>\n      <th>7</th>\n      <td>(Oeufs, Haricots Rouges)</td>\n      <td>(Oignon)</td>\n      <td>0.8</td>\n      <td>0.6</td>\n      <td>0.6</td>\n      <td>0.75</td>\n      <td>1.25</td>\n    </tr>\n    <tr>\n      <th>10</th>\n      <td>(Oeufs)</td>\n      <td>(Haricots Rouges, Oignon)</td>\n      <td>0.8</td>\n      <td>0.6</td>\n      <td>0.6</td>\n      <td>0.75</td>\n      <td>1.25</td>\n    </tr>\n  </tbody>\n</table>\n</div>"
     },
     "execution_count": 52,
     "metadata": {},
     "output_type": "execute_result"
    }
   ],
   "source": [
    "training_rules = association_rules(frequent_itemsets_train, metric=\"confidence\", min_threshold=0.7)\n",
    "training_rules.sort_values(by=['confidence','lift'],ascending=False).iloc[:,:7]"
   ]
  },
  {
   "cell_type": "markdown",
   "source": [
    "<h1 style=\"color:yellow;\"> TP ElMouaddab_Ruchon </h1>"
   ],
   "metadata": {
    "collapsed": false
   },
   "id": "8ff843f03d79c37b"
  },
  {
   "cell_type": "code",
   "execution_count": 53,
   "outputs": [
    {
     "data": {
      "text/plain": "     AMI    AMK    AMO    AMP    AMY    ARE   AREH    ATM  ATMCA    ATP  ...  \\\n0   True  False  False  False  False  False  False   True  False  False  ...   \n1  False  False  False  False  False  False  False  False  False  False  ...   \n2  False  False  False  False  False  False  False   True  False  False  ...   \n3  False   True  False  False  False  False  False  False  False  False  ...   \n4  False  False  False  False  False  False  False  False  False  False  ...   \n\n     SCM  SEVTAR     SF   SHOL    SPR      V   VACR    XYZ     Z2     ZD  \n0  False   False  False  False   True   True  False  False   True  False  \n1  False   False  False  False  False  False  False  False  False  False  \n2  False   False  False  False  False  False  False  False  False  False  \n3  False   False  False  False  False  False  False  False   True  False  \n4  False   False  False  False  False  False  False  False  False  False  \n\n[5 rows x 84 columns]",
      "text/html": "<div>\n<style scoped>\n    .dataframe tbody tr th:only-of-type {\n        vertical-align: middle;\n    }\n\n    .dataframe tbody tr th {\n        vertical-align: top;\n    }\n\n    .dataframe thead th {\n        text-align: right;\n    }\n</style>\n<table border=\"1\" class=\"dataframe\">\n  <thead>\n    <tr style=\"text-align: right;\">\n      <th></th>\n      <th>AMI</th>\n      <th>AMK</th>\n      <th>AMO</th>\n      <th>AMP</th>\n      <th>AMY</th>\n      <th>ARE</th>\n      <th>AREH</th>\n      <th>ATM</th>\n      <th>ATMCA</th>\n      <th>ATP</th>\n      <th>...</th>\n      <th>SCM</th>\n      <th>SEVTAR</th>\n      <th>SF</th>\n      <th>SHOL</th>\n      <th>SPR</th>\n      <th>V</th>\n      <th>VACR</th>\n      <th>XYZ</th>\n      <th>Z2</th>\n      <th>ZD</th>\n    </tr>\n  </thead>\n  <tbody>\n    <tr>\n      <th>0</th>\n      <td>True</td>\n      <td>False</td>\n      <td>False</td>\n      <td>False</td>\n      <td>False</td>\n      <td>False</td>\n      <td>False</td>\n      <td>True</td>\n      <td>False</td>\n      <td>False</td>\n      <td>...</td>\n      <td>False</td>\n      <td>False</td>\n      <td>False</td>\n      <td>False</td>\n      <td>True</td>\n      <td>True</td>\n      <td>False</td>\n      <td>False</td>\n      <td>True</td>\n      <td>False</td>\n    </tr>\n    <tr>\n      <th>1</th>\n      <td>False</td>\n      <td>False</td>\n      <td>False</td>\n      <td>False</td>\n      <td>False</td>\n      <td>False</td>\n      <td>False</td>\n      <td>False</td>\n      <td>False</td>\n      <td>False</td>\n      <td>...</td>\n      <td>False</td>\n      <td>False</td>\n      <td>False</td>\n      <td>False</td>\n      <td>False</td>\n      <td>False</td>\n      <td>False</td>\n      <td>False</td>\n      <td>False</td>\n      <td>False</td>\n    </tr>\n    <tr>\n      <th>2</th>\n      <td>False</td>\n      <td>False</td>\n      <td>False</td>\n      <td>False</td>\n      <td>False</td>\n      <td>False</td>\n      <td>False</td>\n      <td>True</td>\n      <td>False</td>\n      <td>False</td>\n      <td>...</td>\n      <td>False</td>\n      <td>False</td>\n      <td>False</td>\n      <td>False</td>\n      <td>False</td>\n      <td>False</td>\n      <td>False</td>\n      <td>False</td>\n      <td>False</td>\n      <td>False</td>\n    </tr>\n    <tr>\n      <th>3</th>\n      <td>False</td>\n      <td>True</td>\n      <td>False</td>\n      <td>False</td>\n      <td>False</td>\n      <td>False</td>\n      <td>False</td>\n      <td>False</td>\n      <td>False</td>\n      <td>False</td>\n      <td>...</td>\n      <td>False</td>\n      <td>False</td>\n      <td>False</td>\n      <td>False</td>\n      <td>False</td>\n      <td>False</td>\n      <td>False</td>\n      <td>False</td>\n      <td>True</td>\n      <td>False</td>\n    </tr>\n    <tr>\n      <th>4</th>\n      <td>False</td>\n      <td>False</td>\n      <td>False</td>\n      <td>False</td>\n      <td>False</td>\n      <td>False</td>\n      <td>False</td>\n      <td>False</td>\n      <td>False</td>\n      <td>False</td>\n      <td>...</td>\n      <td>False</td>\n      <td>False</td>\n      <td>False</td>\n      <td>False</td>\n      <td>False</td>\n      <td>False</td>\n      <td>False</td>\n      <td>False</td>\n      <td>False</td>\n      <td>False</td>\n    </tr>\n  </tbody>\n</table>\n<p>5 rows × 84 columns</p>\n</div>"
     },
     "execution_count": 53,
     "metadata": {},
     "output_type": "execute_result"
    }
   ],
   "source": [
    "sinistre_fact = pd.read_csv('DW/sinistre_fact.csv', sep=';')\n",
    "\n",
    "sinistre_data = sinistre_fact.groupby('B_ID')['ACTE'].apply(list).tolist()\n",
    "\n",
    "transactions = TransactionEncoder()\n",
    "transactions_array = transactions.fit(sinistre_data).transform(sinistre_data)\n",
    "df_sinistre = pd.DataFrame(transactions_array, columns=transactions.columns_)\n",
    "df_sinistre.head(5)"
   ],
   "metadata": {
    "collapsed": false,
    "ExecuteTime": {
     "end_time": "2025-06-05T10:50:29.804432100Z",
     "start_time": "2025-06-05T10:50:27.411853100Z"
    }
   },
   "id": "4d0c430e16eb69f1"
  },
  {
   "cell_type": "code",
   "execution_count": 54,
   "outputs": [
    {
     "data": {
      "text/plain": "    support    itemsets\n0  0.667302       (PH4)\n1  0.801570       (PH7)\n2  0.640376  (PH4, PH7)",
      "text/html": "<div>\n<style scoped>\n    .dataframe tbody tr th:only-of-type {\n        vertical-align: middle;\n    }\n\n    .dataframe tbody tr th {\n        vertical-align: top;\n    }\n\n    .dataframe thead th {\n        text-align: right;\n    }\n</style>\n<table border=\"1\" class=\"dataframe\">\n  <thead>\n    <tr style=\"text-align: right;\">\n      <th></th>\n      <th>support</th>\n      <th>itemsets</th>\n    </tr>\n  </thead>\n  <tbody>\n    <tr>\n      <th>0</th>\n      <td>0.667302</td>\n      <td>(PH4)</td>\n    </tr>\n    <tr>\n      <th>1</th>\n      <td>0.801570</td>\n      <td>(PH7)</td>\n    </tr>\n    <tr>\n      <th>2</th>\n      <td>0.640376</td>\n      <td>(PH4, PH7)</td>\n    </tr>\n  </tbody>\n</table>\n</div>"
     },
     "execution_count": 54,
     "metadata": {},
     "output_type": "execute_result"
    }
   ],
   "source": [
    "frequent_itemsets_train = apriori(df_sinistre, min_support=0.6, use_colnames=True)\n",
    "frequent_itemsets_train"
   ],
   "metadata": {
    "collapsed": false,
    "ExecuteTime": {
     "end_time": "2025-06-05T10:50:29.822881600Z",
     "start_time": "2025-06-05T10:50:29.795444700Z"
    }
   },
   "id": "c615524a10360857"
  },
  {
   "cell_type": "code",
   "execution_count": 55,
   "outputs": [
    {
     "data": {
      "text/plain": "    support    itemsets\n1  0.801570       (PH7)\n2  0.640376  (PH4, PH7)",
      "text/html": "<div>\n<style scoped>\n    .dataframe tbody tr th:only-of-type {\n        vertical-align: middle;\n    }\n\n    .dataframe tbody tr th {\n        vertical-align: top;\n    }\n\n    .dataframe thead th {\n        text-align: right;\n    }\n</style>\n<table border=\"1\" class=\"dataframe\">\n  <thead>\n    <tr style=\"text-align: right;\">\n      <th></th>\n      <th>support</th>\n      <th>itemsets</th>\n    </tr>\n  </thead>\n  <tbody>\n    <tr>\n      <th>1</th>\n      <td>0.801570</td>\n      <td>(PH7)</td>\n    </tr>\n    <tr>\n      <th>2</th>\n      <td>0.640376</td>\n      <td>(PH4, PH7)</td>\n    </tr>\n  </tbody>\n</table>\n</div>"
     },
     "execution_count": 55,
     "metadata": {},
     "output_type": "execute_result"
    }
   ],
   "source": [
    "frequent_itemsets_train[frequent_itemsets_train['itemsets'].astype(str).str.contains(\"PH7\")]"
   ],
   "metadata": {
    "collapsed": false,
    "ExecuteTime": {
     "end_time": "2025-06-05T10:50:29.866691200Z",
     "start_time": "2025-06-05T10:50:29.816076800Z"
    }
   },
   "id": "1c9a466ea3fb9c8e"
  },
  {
   "cell_type": "code",
   "execution_count": 56,
   "outputs": [
    {
     "data": {
      "text/plain": "  antecedents consequents  antecedent support  consequent support   support  \\\n0       (PH4)       (PH7)            0.667302            0.801570  0.640376   \n1       (PH7)       (PH4)            0.801570            0.667302  0.640376   \n\n   confidence      lift  \n0    0.959650  1.197213  \n1    0.798902  1.197213  ",
      "text/html": "<div>\n<style scoped>\n    .dataframe tbody tr th:only-of-type {\n        vertical-align: middle;\n    }\n\n    .dataframe tbody tr th {\n        vertical-align: top;\n    }\n\n    .dataframe thead th {\n        text-align: right;\n    }\n</style>\n<table border=\"1\" class=\"dataframe\">\n  <thead>\n    <tr style=\"text-align: right;\">\n      <th></th>\n      <th>antecedents</th>\n      <th>consequents</th>\n      <th>antecedent support</th>\n      <th>consequent support</th>\n      <th>support</th>\n      <th>confidence</th>\n      <th>lift</th>\n    </tr>\n  </thead>\n  <tbody>\n    <tr>\n      <th>0</th>\n      <td>(PH4)</td>\n      <td>(PH7)</td>\n      <td>0.667302</td>\n      <td>0.801570</td>\n      <td>0.640376</td>\n      <td>0.959650</td>\n      <td>1.197213</td>\n    </tr>\n    <tr>\n      <th>1</th>\n      <td>(PH7)</td>\n      <td>(PH4)</td>\n      <td>0.801570</td>\n      <td>0.667302</td>\n      <td>0.640376</td>\n      <td>0.798902</td>\n      <td>1.197213</td>\n    </tr>\n  </tbody>\n</table>\n</div>"
     },
     "execution_count": 56,
     "metadata": {},
     "output_type": "execute_result"
    }
   ],
   "source": [
    "training_rules = association_rules(frequent_itemsets_train, metric=\"confidence\", min_threshold=0.7)\n",
    "training_rules.sort_values(by=['confidence','lift'],ascending=False).iloc[:,:7]"
   ],
   "metadata": {
    "collapsed": false,
    "ExecuteTime": {
     "end_time": "2025-06-05T10:50:29.867688400Z",
     "start_time": "2025-06-05T10:50:29.826866500Z"
    }
   },
   "id": "3805f57dea4fbb"
  },
  {
   "cell_type": "markdown",
   "source": [
    "- On a importé le CSV sinistre_fact et groupBy par B_ID pour obtenir la liste des ACTE associés.\n",
    "- Avec TransactionEncoder on passe a un tableau binaire où chaques colonnes est un acte.\n",
    "- Avec la fonction apriori on calcul les éléments fréquents.\n",
    "- On a mis le support minimum à 0.6, pour garder que les actes présents au moins 60% du temps. Donc frequent_itemsets_train est une liste des ensembles d'actes qui apparaissent assez souvent.\n",
    "- Ensuite on garde que ceux qui contiennent l'acte \"PH7\".\n",
    "- Après on génére les règles d'association en fixant la confiance à 70% minimum et on trie les règles par ordre décroissant, puis de lift pour avoir les résultats les plus significatif."
   ],
   "metadata": {
    "collapsed": false
   },
   "id": "d6259e7b11197057"
  },
  {
   "cell_type": "code",
   "execution_count": null,
   "outputs": [],
   "source": [],
   "metadata": {
    "collapsed": false
   },
   "id": "d8de92fbe2ef9999"
  }
 ],
 "metadata": {
  "kernelspec": {
   "name": "python3",
   "language": "python",
   "display_name": "Python 3 (ipykernel)"
  },
  "language_info": {
   "codemirror_mode": {
    "name": "ipython",
    "version": 3
   },
   "file_extension": ".py",
   "mimetype": "text/x-python",
   "name": "python",
   "nbconvert_exporter": "python",
   "pygments_lexer": "ipython3",
   "version": "3.13.2"
  }
 },
 "nbformat": 4,
 "nbformat_minor": 5
}
